{
 "cells": [
  {
   "cell_type": "markdown",
   "metadata": {},
   "source": [
    "##                                                Report\n",
    "                                 Data wrangling of datasets from “WeRateDogs” tweets.\n",
    "                                             Ogunwale Oluremi Itunu\n",
    "                                                June,27th 2022\n",
    "                                 \n",
    "Data wrangling procedure has been completed on the datasets obtained from “WeRateDogs”. There have been 3 main stages:\n",
    "1. Data gathering;\n",
    "2. Data assessment;\n",
    "3. Data cleaning.\n",
    "\n",
    "Data have been gathered from different resources such as a provided file, a downloaded\n",
    "file via the internet using the provided link and via tweepy API. As a result 3 datasets (df_archive, df_predictions, tweet_json) have been collected for further assessment and cleaning. \n",
    "\n",
    "Data assessment was conducted against Quality and Tidness issues. Python methods and functions were used for data assessment such as .head(), .value_counts(), .sample(), .describe(), .info() and etc. The following problems were identified:\n",
    "\n",
    " Quality issues:\n",
    "\n",
    "1. Non-decriptive columns headers in df_predictions (p1, p2, etc.)\n",
    "\n",
    "2. The timestamp column is in string format, it's the wrong data type.\n",
    "\n",
    "3. Some names in the name column have invalid strings like'an ','a ', which are probably not dogs' names\n",
    "\n",
    "4. There are 745 tweets with the dog's name as \" None \" (Probably not worth looking at, because it's a large dataset and there are too many to verify.)\n",
    "\n",
    "5. There 78 replies (in _ reply _ to _ status _ id, in _ reply _ to _ user _ id)\n",
    "\n",
    "6. There are 181 retweets in the retweet columns, but we’re only interested in “original tweets”.\n",
    "\n",
    "7. The source columns in df_archive are in URL.\n",
    "\n",
    "8. Incorrect data in the df _ predictions table. (some images are not of a dog)\n",
    "\n",
    "Tidiness issues:\n",
    "\n",
    "1. Variables doggo, floofer, pupper and puppo form one variable.\n",
    "2. df_archive and tweet_json form one observational unit"
   ]
  },
  {
   "cell_type": "code",
   "execution_count": 3,
   "metadata": {},
   "outputs": [
    {
     "name": "stdout",
     "output_type": "stream",
     "text": [
      "Requirement already satisfied: pandoc in c:\\users\\remi\\anaconda3\\lib\\site-packages (2.2)Note: you may need to restart the kernel to use updated packages.\n",
      "\n",
      "Requirement already satisfied: plumbum in c:\\users\\remi\\anaconda3\\lib\\site-packages (from pandoc) (1.7.2)\n",
      "Requirement already satisfied: ply in c:\\users\\remi\\anaconda3\\lib\\site-packages (from pandoc) (3.11)\n",
      "Requirement already satisfied: pywin32 in c:\\users\\remi\\anaconda3\\lib\\site-packages (from plumbum->pandoc) (302)\n"
     ]
    }
   ],
   "source": [
    "pip install pandoc"
   ]
  },
  {
   "cell_type": "code",
   "execution_count": null,
   "metadata": {},
   "outputs": [],
   "source": []
  }
 ],
 "metadata": {
  "kernelspec": {
   "display_name": "Python 3 (ipykernel)",
   "language": "python",
   "name": "python3"
  },
  "language_info": {
   "codemirror_mode": {
    "name": "ipython",
    "version": 3
   },
   "file_extension": ".py",
   "mimetype": "text/x-python",
   "name": "python",
   "nbconvert_exporter": "python",
   "pygments_lexer": "ipython3",
   "version": "3.9.12"
  }
 },
 "nbformat": 4,
 "nbformat_minor": 2
}
